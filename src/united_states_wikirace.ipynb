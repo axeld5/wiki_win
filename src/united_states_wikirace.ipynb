{
 "cells": [
  {
   "cell_type": "code",
   "execution_count": 1,
   "metadata": {},
   "outputs": [
    {
     "name": "stderr",
     "output_type": "stream",
     "text": [
      "<All keys matched successfully>\n"
     ]
    }
   ],
   "source": [
    "import yaml\n",
    "import os\n",
    "from langchain_anthropic import ChatAnthropic\n",
    "from sentence_transformers import SentenceTransformer\n",
    "from matching_functions import find_closest_documents\n",
    "\n",
    "model = SentenceTransformer(\"nomic-ai/nomic-embed-text-v1\", trust_remote_code=True)\n",
    "\n",
    "with open('config.yml', 'r') as file:\n",
    "    config = yaml.safe_load(file)\n",
    "anthropic_key = config[\"anthropic_key\"]\n",
    "os.environ[\"ANTHROPIC_API_KEY\"] = anthropic_key\n",
    "chat = ChatAnthropic(temperature=0, model_name=\"claude-3-haiku-20240307\")"
   ]
  },
  {
   "cell_type": "code",
   "execution_count": 2,
   "metadata": {},
   "outputs": [
    {
     "name": "stdout",
     "output_type": "stream",
     "text": [
      "Morya (film)\n"
     ]
    }
   ],
   "source": [
    "from wikipedia_functions import get_random_page, get_page_links, get_page_content, check_wikipedia_pages_existence\n",
    "\n",
    "start_page = get_random_page(1)[0]\n",
    "end_page = \"United States\"\n",
    "end_page_full_content = get_page_content(end_page)\n",
    "print(start_page)"
   ]
  },
  {
   "cell_type": "code",
   "execution_count": 3,
   "metadata": {},
   "outputs": [],
   "source": [
    "start_links = get_page_links(start_page)\n",
    "checked_links = check_wikipedia_pages_existence(start_links)\n",
    "valid_links = [link for link in start_links if checked_links[link]]"
   ]
  },
  {
   "cell_type": "code",
   "execution_count": 4,
   "metadata": {},
   "outputs": [],
   "source": [
    "from chain_functions import get_crawler_chain, get_summarize_chain, get_explain_links_chain, get_broad_links_chain\n",
    "\n",
    "crawler_chain = get_crawler_chain(chat)\n",
    "summarize_chain = get_summarize_chain(chat)\n",
    "explain_links_chain = get_explain_links_chain(chat)\n",
    "broad_links_chain = get_broad_links_chain(chat)"
   ]
  },
  {
   "cell_type": "code",
   "execution_count": 5,
   "metadata": {},
   "outputs": [
    {
     "name": "stdout",
     "output_type": "stream",
     "text": [
      "The United States is a federal republic with 50 states, a federal district, and several territories. It has a diverse population, with a history of European colonization, Native American displacement, and waves of immigration. The country has a large economy, advanced technology, and a prominent role in global affairs. The government has a presidential system with three branches, and the country has a long history of political and cultural development, including the American Revolution, Civil War, and rise as a superpower. The United States is known for its natural resources, infrastructure, and high productivity, as well as its cultural exports in areas like literature, music, and cinema.\n"
     ]
    }
   ],
   "source": [
    "from answer_functions import answer_broad_links, answer_crawler, answer_explain_links, answer_summarize\n",
    "\n",
    "end_page_content = answer_summarize(summarize_chain, end_page_full_content)\n",
    "print(end_page_content)"
   ]
  },
  {
   "cell_type": "code",
   "execution_count": 6,
   "metadata": {},
   "outputs": [
    {
     "name": "stdout",
     "output_type": "stream",
     "text": [
      "<reasoning>\n",
      "After reviewing the provided links and their associated reasonings, I believe the most useful link to reach the \"United States\" page would be \"Sachin Pilgaonkar\". While this link is not directly related to the United States, it could potentially be used as a stepping stone to reach other pages that are more relevant to the final destination. The reasoning behind this choice is that Sachin Pilgaonkar is an Indian actor and director, and exploring pages related to Indian-American culture or entertainment could lead to connections or references to the United States. Additionally, the other links provided, such as those related to other Indian actors, do not seem to have a clear path to the \"United States\" page, making \"Sachin Pilgaonkar\" the most promising option among the choices given.\n",
      "</reasoning>\n",
      "\n",
      "<output>Sachin Pilgaonkar</output>\n",
      "<reasoning>\n",
      "Based on the provided information, the most relevant link to explore in order to reach the goal page of \"United States\" appears to be 'India'. Understanding the broader context of India, its states, and its connections to the United States would be a logical starting point. The other links, while potentially informative, do not seem to have a direct path to the United States. By focusing on the 'India' link, we can begin to establish the necessary background and context to navigate towards the goal page.\n",
      "</reasoning>\n",
      "\n",
      "<output>India</output>\n",
      "<reasoning>\n",
      "Based on the provided information, the link that seems most relevant and useful to reach the goal page of \"United States\" is \"India–United States relations\". This link directly connects India, the starting page, to the United States, the goal page. By exploring the relationship and interactions between these two countries, I can likely find information that will help me navigate towards the final destination. The other links, while potentially relevant, do not have as direct a connection to the goal page as this specific link on India-US relations.\n",
      "</reasoning>\n",
      "\n",
      "<output>India–United States relations</output>\n",
      "<reasoning>\n",
      "Based on the provided information, the most useful link to get to the goal page of \"United States\" appears to be the link for the main page on the \"United States\". This link would provide the most comprehensive and direct information about the country, covering its history, government, geography, and other key aspects that are likely to be relevant in the Wikipedia race. While the other links, such as the U.S. Army, Navy, Congress, and legal system, could also be helpful in providing context and background information, the main \"United States\" page is the most direct path to the goal.\n",
      "</reasoning>\n",
      "\n",
      "<output>\n",
      "<output>United States</output>\n",
      "</output>\n",
      "Page reached in 3 iterations!\n"
     ]
    }
   ],
   "source": [
    "current_page = start_page\n",
    "current_links = valid_links\n",
    "forbidden_links = [start_page.strip()]\n",
    "for i in range(10):\n",
    "    closest_links = find_closest_documents(model, end_page, current_links)\n",
    "    broad_links = answer_broad_links(broad_links_chain, current_links, end_page, end_page_content)\n",
    "    current_links = list(set([link for link in closest_links + broad_links if link in current_links]))\n",
    "    reasonings = answer_explain_links(explain_links_chain, current_links, end_page, end_page_content)\n",
    "    current_page = answer_crawler(crawler_chain, current_page, current_links, reasonings, end_page, end_page_content).strip()\n",
    "    if current_page != end_page:\n",
    "        forbidden_links.append(current_page)\n",
    "        found_links = get_page_links(current_page)\n",
    "        checked_links = check_wikipedia_pages_existence(found_links)\n",
    "        current_links = [link for link in found_links if checked_links[link] and link not in forbidden_links]\n",
    "    else:\n",
    "        print(f\"Page reached in {i} iterations!\")\n",
    "        break"
   ]
  },
  {
   "cell_type": "code",
   "execution_count": null,
   "metadata": {},
   "outputs": [],
   "source": []
  },
  {
   "cell_type": "code",
   "execution_count": null,
   "metadata": {},
   "outputs": [],
   "source": []
  }
 ],
 "metadata": {
  "kernelspec": {
   "display_name": "Python 3",
   "language": "python",
   "name": "python3"
  },
  "language_info": {
   "codemirror_mode": {
    "name": "ipython",
    "version": 3
   },
   "file_extension": ".py",
   "mimetype": "text/x-python",
   "name": "python",
   "nbconvert_exporter": "python",
   "pygments_lexer": "ipython3",
   "version": "3.10.4"
  }
 },
 "nbformat": 4,
 "nbformat_minor": 2
}
