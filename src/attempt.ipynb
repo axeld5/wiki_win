{
 "cells": [
  {
   "cell_type": "code",
   "execution_count": 1,
   "metadata": {},
   "outputs": [],
   "source": [
    "import yaml\n",
    "import os\n",
    "from langchain_anthropic import ChatAnthropic\n",
    "from langchain_core.prompts import ChatPromptTemplate\n",
    "\n",
    "with open('config.yml', 'r') as file:\n",
    "    config = yaml.safe_load(file)\n",
    "openai_key = config[\"openai_key\"]\n",
    "anthropic_key = config[\"anthropic_key\"]"
   ]
  },
  {
   "cell_type": "code",
   "execution_count": 2,
   "metadata": {},
   "outputs": [],
   "source": [
    "os.environ[\"ANTHROPIC_API_KEY\"] = anthropic_key\n",
    "\n",
    "chat = ChatAnthropic(temperature=0, model_name=\"claude-3-haiku-20240307\")\n",
    "system = (\n",
    "    \"\"\"You are an AI language model tasked to beat the Wiki Game. \n",
    "    Your goal is, from a wikipedia page, to get the next link to click to go to the next page.\"\"\"\n",
    ")"
   ]
  },
  {
   "cell_type": "code",
   "execution_count": 23,
   "metadata": {},
   "outputs": [
    {
     "name": "stdout",
     "output_type": "stream",
     "text": [
      "Vivian Reed (actress, born 1894)\n",
      "Peter Hruby\n"
     ]
    }
   ],
   "source": [
    "from wikipedia_functions import get_random_page, get_page_content\n",
    "\n",
    "start_page, final_page = get_random_page(2)\n",
    "print(start_page)\n",
    "print(final_page)\n",
    "final_page_content = get_page_content(final_page)"
   ]
  },
  {
   "cell_type": "code",
   "execution_count": 18,
   "metadata": {},
   "outputs": [],
   "source": [
    "final_page = \"United States\""
   ]
  },
  {
   "cell_type": "code",
   "execution_count": 24,
   "metadata": {},
   "outputs": [],
   "source": [
    "from prompt import get_crawler_template\n",
    "\n",
    "crawler_template = get_crawler_template()"
   ]
  },
  {
   "cell_type": "code",
   "execution_count": 25,
   "metadata": {},
   "outputs": [],
   "source": [
    "from wikipedia_functions import get_page_content\n",
    "\n",
    "start_links = get_page_content(start_page)"
   ]
  },
  {
   "cell_type": "code",
   "execution_count": 26,
   "metadata": {},
   "outputs": [
    {
     "name": "stdout",
     "output_type": "stream",
     "text": [
      "Here is my analysis and link choice:\n",
      "\n",
      "<reasoning>\n",
      "The goal page is Peter Hruby, which is not directly related to the current page Vivian Reed (actress, born 1894). However, some of the links in the list could potentially lead to more general information about actors, films, or the entertainment industry, which could eventually connect to the goal page.\n",
      "\n",
      "The most promising links seem to be:\n",
      "- \"Category:20th-century American actresses\"\n",
      "- \"Category:American film actresses\" \n",
      "- \"Category:Actresses from Pittsburgh\"\n",
      "- \"Category:American silent film actresses\"\n",
      "\n",
      "These category links could provide a path to more general information about actors and the film industry, which could potentially lead to the goal page. The other links seem less directly relevant.\n",
      "</reasoning>\n",
      "\n",
      "<output>Category:American film actresses</output>\n",
      "Okay, let's think through this step-by-step:\n",
      "<reasoning>\n",
      "The goal page is Peter Hruby, which is not directly related to the current page of Category:American film actresses. The available links include 'film actress', 'Category:American actresses by medium', 'Category:American film actors', 'United States', and 'Category:American women in film'. \n",
      "\n",
      "Out of these options, 'Category:American film actors' seems the most relevant, as it could potentially lead to information about American actors, which could include Peter Hruby. 'United States' is also a broad category that could be useful, but it's less specific to the goal.\n",
      "</reasoning>\n",
      "<output>Category:American film actors</output>\n",
      "<reasoning>\n",
      "The given links, 'actressandactors.com' and 'Category:American film people', do not seem to be directly related to the goal page 'Peter Hruby'. 'actressandactors.com' is a website, and 'Category:American film people' is a broad category that does not necessarily lead to the specific person 'Peter Hruby'. Without any other information about the context or the relationship between the current page and the goal page, it is difficult to determine the most useful link to reach the goal. Therefore, the best option in this case would be to choose a random link.\n",
      "</reasoning>\n",
      "\n",
      "<output>Random</output>\n",
      "Okay, let's think through this step-by-step:\n",
      "<reasoning>\n",
      "The goal page is Peter Hruby, and the current page is Category:American film people. The two available links are 'Category:American mass media people' and 'Category:Cinema of the United States'. \n",
      "\n",
      "Looking at the goal page, Peter Hruby, it seems he is likely an American film person, so the 'Category:Cinema of the United States' link would be the most relevant and useful to get closer to the goal page. The 'Category:American mass media people' link is more broad and less directly related to the film industry.\n",
      "</reasoning>\n",
      "<output>Category:Cinema of the United States</output>\n",
      "Okay, let's think through this step-by-step:\n",
      "<reasoning>\n",
      "The goal page is Peter Hruby, which is likely a person related to cinema in the United States. The available links do not seem to directly lead to information about Peter Hruby or cinema in the United States. The closest link seems to be \"Category:Cinema by country\", which could potentially lead to information about cinema in the United States and potentially Peter Hruby. However, this is still a bit of a stretch, and the other links do not seem directly relevant. Therefore, I will choose \"Random\" as the output, as I do not see a clear path from the current page to the goal page.\n",
      "</reasoning>\n",
      "<output>Random</output>\n",
      "Okay, let's think through this step-by-step:\n",
      "<reasoning>\n",
      "The given page is \"Category:Entertainment in the United States\", and the goal page is \"Peter Hruby\". None of the links provided seem to be directly related to the goal page. However, the link \"Category:Culture of the United States\" could be a good starting point, as Peter Hruby is likely to be associated with the culture of the United States. From there, we could try to find links related to entertainment or individuals within the US culture.\n",
      "</reasoning>\n",
      "<output>Category:Culture of the United States</output>\n",
      "Okay, let's think through this step-by-step:\n",
      "<reasoning>\n",
      "The goal page is Peter Hruby, which is not directly related to the current page \"Category:Culture of the United States\". However, some of the links in the list could potentially lead us closer to the goal page.\n",
      "\n",
      "The link \"African Americans\" could be a good starting point, as Peter Hruby is likely an American person, and African Americans are a significant cultural group in the United States. From there, we could potentially find more information about American culture and individuals.\n",
      "\n",
      "Another potentially useful link is \"Asian Americans\", as Peter Hruby could also be of Asian descent. This could also lead us to more information about American culture and individuals.\n",
      "\n",
      "The link \"Native Americans in the United States\" is also worth considering, as Peter Hruby could be of Native American descent, or the page could contain information about American culture and individuals.\n",
      "\n",
      "However, none of these links seem to be directly related to the goal page, so it's difficult to determine the best choice. In this case, it may be best to choose a more general link that could lead us in the right direction, such as \"culture of the United States\" or \"society of the United States\".\n",
      "</reasoning>\n",
      "<output>culture of the United States</output>\n",
      "<reasoning>\n",
      "The goal page is \"Peter Hruby\", and the available links do not seem to be directly related to this person. The links cover a wide range of topics related to American culture, history, and society, but I don't see any obvious connections to the target page. Therefore, I will output \"Random\" as the link choice, as I don't have a clear path to reach the goal page from the given information.\n",
      "</reasoning>\n",
      "\n",
      "<output>Random</output>\n",
      "Okay, let's try to find the best link to get from the Honolulu page to the Peter Hruby page.\n",
      "\n",
      "<reasoning>\n",
      "The given list of links does not contain any direct references to Peter Hruby or anything that seems closely related. The links are mostly about Honolulu, Hawaii, and various topics and places in the area. There are no obvious connections to the goal page of Peter Hruby.\n",
      "</reasoning>\n",
      "\n",
      "<output>Random</output>\n",
      "Okay, let's try to find the best link to get from the \"Mid-Pacific Institute\" page to the \"Peter Hruby\" page.\n",
      "\n",
      "<reasoning>\n",
      "The goal page is \"Peter Hruby\", which is not directly related to the current page \"Mid-Pacific Institute\". However, we can try to find a link that could potentially lead us closer to the goal.\n",
      "\n",
      "Looking at the list of available links, the ones that seem most relevant are \"University of Hawaii\", \"Hawaii\", and \"Honolulu\". These could potentially lead us to information about people or institutions in Hawaii, which could then connect us to the \"Peter Hruby\" page.\n",
      "\n",
      "However, none of these links seem like a clear path to the goal, so I will choose \"Random\" as the output.\n",
      "</reasoning>\n",
      "\n",
      "<output>Random</output>\n"
     ]
    }
   ],
   "source": [
    "import re \n",
    "import random\n",
    "\n",
    "human = crawler_template\n",
    "prompt = ChatPromptTemplate.from_messages([(\"system\", system), (\"human\", human)])\n",
    "chain = prompt | chat\n",
    "current_page = start_page\n",
    "current_links = start_links\n",
    "for i in range(10):\n",
    "    text = chain.invoke(\n",
    "        {\n",
    "            \"current_page\": current_page,\n",
    "            \"current_links\": current_links,\n",
    "            \"end_page\": final_page\n",
    "        }\n",
    "    )\n",
    "    model_output = text.content\n",
    "    print(model_output)\n",
    "    pattern = r'<output>(.*?)</output>'\n",
    "    matches = re.findall(pattern, model_output)\n",
    "    current_page = matches[0]\n",
    "    if current_page == \"Random\":\n",
    "        current_page = random.choice(current_links)\n",
    "    if current_page != final_page:\n",
    "        current_links = get_page_content(current_page)\n",
    "    else:\n",
    "        print(f\"Page reached in {i} iterations!\")\n",
    "        break"
   ]
  },
  {
   "cell_type": "code",
   "execution_count": 8,
   "metadata": {},
   "outputs": [],
   "source": [
    "model_output = text.content"
   ]
  },
  {
   "cell_type": "code",
   "execution_count": 14,
   "metadata": {},
   "outputs": [],
   "source": [
    "import re \n",
    "pattern = r'<output>(.*?)</output>'\n",
    "matches = re.findall(pattern, model_output)"
   ]
  },
  {
   "cell_type": "code",
   "execution_count": 15,
   "metadata": {},
   "outputs": [
    {
     "name": "stdout",
     "output_type": "stream",
     "text": [
      "Japan\n"
     ]
    }
   ],
   "source": [
    "print(matches[0])"
   ]
  },
  {
   "cell_type": "code",
   "execution_count": null,
   "metadata": {},
   "outputs": [],
   "source": []
  }
 ],
 "metadata": {
  "kernelspec": {
   "display_name": "Python 3",
   "language": "python",
   "name": "python3"
  },
  "language_info": {
   "codemirror_mode": {
    "name": "ipython",
    "version": 3
   },
   "file_extension": ".py",
   "mimetype": "text/x-python",
   "name": "python",
   "nbconvert_exporter": "python",
   "pygments_lexer": "ipython3",
   "version": "3.10.4"
  }
 },
 "nbformat": 4,
 "nbformat_minor": 2
}
