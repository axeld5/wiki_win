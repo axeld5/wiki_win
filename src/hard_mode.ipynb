{
 "cells": [
  {
   "cell_type": "code",
   "execution_count": 1,
   "metadata": {},
   "outputs": [
    {
     "name": "stderr",
     "output_type": "stream",
     "text": [
      "<All keys matched successfully>\n"
     ]
    }
   ],
   "source": [
    "from dotenv import load_dotenv\n",
    "from langchain_anthropic import ChatAnthropic\n",
    "from sentence_transformers import SentenceTransformer\n",
    "from utils.matching_functions import find_closest_documents\n",
    "\n",
    "load_dotenv()\n",
    "model = SentenceTransformer(\"nomic-ai/nomic-embed-text-v1\", trust_remote_code=True)\n",
    "chat = ChatAnthropic(temperature=0, model_name=\"claude-3-haiku-20240307\")"
   ]
  },
  {
   "cell_type": "code",
   "execution_count": 2,
   "metadata": {},
   "outputs": [
    {
     "name": "stdout",
     "output_type": "stream",
     "text": [
      "Water Lily Nebula\n",
      "Portuguese Football Federation\n"
     ]
    }
   ],
   "source": [
    "from utils.wikipedia_functions import get_random_page, get_page_links, get_page_content, check_wikipedia_pages_existence\n",
    "\n",
    "start_page, end_page = get_random_page(2)\n",
    "end_page_full_content = get_page_content(end_page)\n",
    "print(start_page)\n",
    "print(end_page)"
   ]
  },
  {
   "cell_type": "code",
   "execution_count": 3,
   "metadata": {},
   "outputs": [],
   "source": [
    "start_links = get_page_links(start_page)\n",
    "checked_links = check_wikipedia_pages_existence(start_links)\n",
    "valid_links = [link for link in start_links if checked_links[link]]"
   ]
  },
  {
   "cell_type": "code",
   "execution_count": 4,
   "metadata": {},
   "outputs": [],
   "source": [
    "from agents.chain_functions import get_crawler_chain, get_summarize_chain, get_explain_links_chain, get_broad_links_chain\n",
    "\n",
    "crawler_chain = get_crawler_chain(chat)\n",
    "summarize_chain = get_summarize_chain(chat)\n",
    "explain_links_chain = get_explain_links_chain(chat)\n",
    "broad_links_chain = get_broad_links_chain(chat)"
   ]
  },
  {
   "cell_type": "code",
   "execution_count": 5,
   "metadata": {},
   "outputs": [
    {
     "name": "stdout",
     "output_type": "stream",
     "text": [
      "The Portuguese Football Federation (FPF) is the governing body of football in Portugal, formed in 1914 as the Portuguese Football Union. It joined FIFA in 1923 and is a founding member of UEFA. The FPF oversees all aspects of football in Portugal, including professional, amateur, and national teams. It has gone through various leadership changes, including controversies like the \"Saltillo Affair\" in the 1986 World Cup. In recent years, the FPF has hosted major events like the 2019 UEFA Nations League Finals and is bidding to host the 2030 FIFA World Cup. The FPF is structured with various governing bodies, including the General Assembly, Board, Council of Justice, Disciplinary Board, Arbitration Council, and Fiscal Council.\n"
     ]
    }
   ],
   "source": [
    "from agents.answer_functions import answer_broad_links, answer_crawler, answer_explain_links, answer_summarize\n",
    "\n",
    "end_page_content = answer_summarize(summarize_chain, end_page_full_content)\n",
    "print(end_page_content)"
   ]
  },
  {
   "cell_type": "code",
   "execution_count": 7,
   "metadata": {},
   "outputs": [
    {
     "name": "stdout",
     "output_type": "stream",
     "text": [
      "Crawler Output: <reasoning>\n",
      "Based on the information provided, the link that seems most relevant to reaching the \"Portuguese Football Federation\" page is \"Ara (constellation)\". While this link may not have a direct connection to the target page, it could potentially provide some context about Portugal's geographical location and its relationship with other countries in the southern hemisphere. This information could be useful in understanding the broader context of the Portuguese Football Federation and its place within the global football landscape.\n",
      "</reasoning>\n",
      "\n",
      "<output>Ara (constellation)</output>\n",
      "Crawler Output: <reasoning>\n",
      "Based on the provided information, the most relevant link to click on to get to the goal page of the Portuguese Football Federation (FPF) appears to be the \"International Astronomical Union (IAU)\" link. While the connection may not be immediately obvious, the reasoning is that the IAU is an international governing body, similar to how the FPF is the governing body for football in Portugal. Understanding the structure and workings of an international organization like the IAU could provide useful insights into how the FPF is organized and operates, which could be helpful in navigating the Wikipedia landscape to reach the goal page.\n",
      "</reasoning>\n",
      "\n",
      "<output>\n",
      "<output>International Astronomical Union</output>\n",
      "</output>\n",
      "Crawler Output: <reasoning>\n",
      "Based on the information provided, the most relevant link to reach the goal page on the Portuguese Football Federation appears to be \"Rio de Janeiro\". This link is relevant because Rio de Janeiro is a major city in Brazil, which is a prominent football-playing nation. Exploring the connection between football and major cities or regions could help understand the cultural and historical significance of the sport, which could provide useful context for understanding the Portuguese Football Federation as a national governing body.\n",
      "</reasoning>\n",
      "\n",
      "<output>Rio de Janeiro</output>\n",
      "Crawler Output: <reasoning>\n",
      "Based on the information provided, the most relevant link to reach the goal page of the Portuguese Football Federation (FPF) appears to be \"Portugal\". This link would provide essential background information on the country where the FPF is based, including its football history and culture. Additionally, the Portuguese language link could also be helpful in understanding the connection between Portugal and Brazil, which is relevant given the mentions of Brazilian football clubs in the link list.\n",
      "</reasoning>\n",
      "\n",
      "<output>Portugal</output>\n",
      "Portuguese Football Federation in Portugal's links \n",
      "Page reached in 5 iterations!\n"
     ]
    }
   ],
   "source": [
    "current_page = start_page\n",
    "current_links = valid_links\n",
    "trajectory = []\n",
    "for i in range(10):\n",
    "    trajectory.append(current_page)\n",
    "    if end_page in current_links:\n",
    "        print(f\"{end_page} in {current_page}'s links \\nPage reached in {i+1} iterations!\")\n",
    "        break\n",
    "    else:\n",
    "        closest_links = find_closest_documents(model, current_links, end_page, end_page_content)\n",
    "        broad_links = answer_broad_links(broad_links_chain, current_links, end_page, end_page_content)\n",
    "        current_links = list(set([link for link in closest_links + broad_links if link in current_links]))\n",
    "        reasonings = answer_explain_links(explain_links_chain, current_links, end_page, end_page_content)\n",
    "        current_page, crawler_output = answer_crawler(crawler_chain, current_page, current_links, reasonings, end_page, end_page_content)\n",
    "        print(f\"Crawler Output: {crawler_output}\")\n",
    "        found_links = get_page_links(current_page)\n",
    "        checked_links = check_wikipedia_pages_existence(found_links)\n",
    "        current_links = [link for link in found_links if checked_links[link] and link not in trajectory]        "
   ]
  },
  {
   "cell_type": "code",
   "execution_count": null,
   "metadata": {},
   "outputs": [],
   "source": []
  }
 ],
 "metadata": {
  "kernelspec": {
   "display_name": "Python 3",
   "language": "python",
   "name": "python3"
  },
  "language_info": {
   "codemirror_mode": {
    "name": "ipython",
    "version": 3
   },
   "file_extension": ".py",
   "mimetype": "text/x-python",
   "name": "python",
   "nbconvert_exporter": "python",
   "pygments_lexer": "ipython3",
   "version": "3.10.4"
  }
 },
 "nbformat": 4,
 "nbformat_minor": 2
}
