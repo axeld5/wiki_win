{
 "cells": [
  {
   "cell_type": "code",
   "execution_count": 1,
   "metadata": {},
   "outputs": [
    {
     "name": "stdout",
     "output_type": "stream",
     "text": [
      "Lat Leyl\n"
     ]
    }
   ],
   "source": [
    "from utils.wikipedia_functions import get_random_page\n",
    "\n",
    "start_page = get_random_page(1)[0]\n",
    "end_page = \"United States\"\n",
    "print(start_page)"
   ]
  },
  {
   "cell_type": "code",
   "execution_count": 2,
   "metadata": {},
   "outputs": [
    {
     "name": "stderr",
     "output_type": "stream",
     "text": [
      "<All keys matched successfully>\n"
     ]
    },
    {
     "name": "stdout",
     "output_type": "stream",
     "text": [
      "<reasoning>\n",
      "Based on the provided information, the link that seems most relevant and useful to reach the target page, the United States, is \"Iran\". The reasoning is that the United States and Iran have a complex and often contentious relationship, and exploring the history, politics, and interactions between the two countries could provide valuable insights and connections to help navigate the Wikipedia Race and ultimately reach the target page. While the other links related to Iran's geography and administrative divisions may also be relevant, the \"Iran\" link appears to be the most direct and promising path to the United States.\n",
      "</reasoning>\n",
      "\n",
      "<output>Iran</output>\n",
      "<reasoning>\n",
      "Based on the provided information, the most relevant link to click on to reach the goal page of \"United States\" would be \"United States Geological Survey\". This link directly relates to the United States and can provide valuable information about the country's geography, natural resources, and scientific research. Understanding the work of the United States Geological Survey can help in finding relevant data and insights about the country's physical characteristics and environmental factors, which can be useful in navigating the Wikipedia Race and reaching the final destination.\n",
      "</reasoning>\n",
      "\n",
      "<output>United States Geological Survey</output>\n",
      "United States in United States Geological Survey's links \n",
      "Page reached in 3 iterations!\n"
     ]
    }
   ],
   "source": [
    "from wikirace_functions import full_wikirace\n",
    "\n",
    "full_wikirace(start_page, end_page)"
   ]
  },
  {
   "cell_type": "code",
   "execution_count": null,
   "metadata": {},
   "outputs": [],
   "source": []
  }
 ],
 "metadata": {
  "kernelspec": {
   "display_name": "Python 3",
   "language": "python",
   "name": "python3"
  },
  "language_info": {
   "codemirror_mode": {
    "name": "ipython",
    "version": 3
   },
   "file_extension": ".py",
   "mimetype": "text/x-python",
   "name": "python",
   "nbconvert_exporter": "python",
   "pygments_lexer": "ipython3",
   "version": "3.10.4"
  }
 },
 "nbformat": 4,
 "nbformat_minor": 2
}
