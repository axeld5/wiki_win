{
 "cells": [
  {
   "cell_type": "code",
   "execution_count": 1,
   "metadata": {},
   "outputs": [
    {
     "name": "stderr",
     "output_type": "stream",
     "text": [
      "<All keys matched successfully>\n"
     ]
    }
   ],
   "source": [
    "from dotenv import load_dotenv\n",
    "from langchain_anthropic import ChatAnthropic\n",
    "from sentence_transformers import SentenceTransformer\n",
    "from utils.matching_functions import find_closest_documents\n",
    "\n",
    "load_dotenv()\n",
    "model = SentenceTransformer(\"nomic-ai/nomic-embed-text-v1\", trust_remote_code=True)\n",
    "chat = ChatAnthropic(temperature=0, model_name=\"claude-3-haiku-20240307\")"
   ]
  },
  {
   "cell_type": "code",
   "execution_count": 2,
   "metadata": {},
   "outputs": [
    {
     "name": "stdout",
     "output_type": "stream",
     "text": [
      "Kokal\n"
     ]
    }
   ],
   "source": [
    "from utils.wikipedia_functions import get_random_page, get_page_links, get_page_content, check_wikipedia_pages_existence\n",
    "\n",
    "start_page = get_random_page(1)[0]\n",
    "end_page = \"United States\"\n",
    "end_page_full_content = get_page_content(end_page)\n",
    "print(start_page)"
   ]
  },
  {
   "cell_type": "code",
   "execution_count": 3,
   "metadata": {},
   "outputs": [],
   "source": [
    "start_links = get_page_links(start_page)\n",
    "checked_links = check_wikipedia_pages_existence(start_links)\n",
    "valid_links = [link for link in start_links if checked_links[link]]"
   ]
  },
  {
   "cell_type": "code",
   "execution_count": 4,
   "metadata": {},
   "outputs": [],
   "source": [
    "from agents.chain_functions import get_crawler_chain, get_summarize_chain, get_explain_links_chain, get_broad_links_chain\n",
    "\n",
    "crawler_chain = get_crawler_chain(chat)\n",
    "summarize_chain = get_summarize_chain(chat)\n",
    "explain_links_chain = get_explain_links_chain(chat)\n",
    "broad_links_chain = get_broad_links_chain(chat)"
   ]
  },
  {
   "cell_type": "code",
   "execution_count": 5,
   "metadata": {},
   "outputs": [
    {
     "name": "stdout",
     "output_type": "stream",
     "text": [
      "The United States is a federal republic with 50 states, a federal district, and several territories. It has a diverse population, with a history of European colonization, Native American displacement, and waves of immigration. The country has a large economy, advanced technology, and a prominent role in global affairs. The government has a presidential system with three branches, and the country has a long history of political and cultural development, including the American Revolution, Civil War, and rise as a superpower. The United States is known for its diversity, individualism, and global influence in areas like literature, arts, media, and sports.\n"
     ]
    }
   ],
   "source": [
    "from agents.answer_functions import answer_broad_links, answer_crawler, answer_explain_links, answer_summarize\n",
    "\n",
    "end_page_content = answer_summarize(summarize_chain, end_page_full_content)\n",
    "print(end_page_content)"
   ]
  },
  {
   "cell_type": "code",
   "execution_count": 9,
   "metadata": {},
   "outputs": [
    {
     "name": "stdout",
     "output_type": "stream",
     "text": [
      "Crawler Output: <reasoning>\n",
      "Based on the provided information and the goal of reaching the 'United States' page, the most relevant link to choose would be 'Pakistan'. As a neighboring country to the United States, exploring the page on Pakistan can provide valuable context and connections that could help navigate the Wikipedia game more effectively. Understanding the relationship between Pakistan and the United States, as well as the broader geopolitical and cultural context, can assist in identifying relevant links and making informed decisions to reach the desired destination.\n",
      "</reasoning>\n",
      "\n",
      "<output>Pakistan</output>\n",
      "United States in Pakistan's links \n",
      "Page reached in 2 iterations!\n"
     ]
    }
   ],
   "source": [
    "current_page = start_page\n",
    "current_links = valid_links\n",
    "trajectory = []\n",
    "for i in range(10):\n",
    "    trajectory.append(current_page)\n",
    "    if end_page in current_links:\n",
    "        print(f\"{end_page} in {current_page}'s links \\nPage reached in {i+1} iterations!\")\n",
    "        break\n",
    "    else:\n",
    "        closest_links = find_closest_documents(model, current_links, end_page, end_page_content)\n",
    "        broad_links = answer_broad_links(broad_links_chain, current_links, end_page, end_page_content)\n",
    "        current_links = list(set([link for link in closest_links + broad_links if link in current_links]))\n",
    "        reasonings = answer_explain_links(explain_links_chain, current_links, end_page, end_page_content)\n",
    "        current_page, crawler_output = answer_crawler(crawler_chain, current_page, current_links, reasonings, end_page, end_page_content)\n",
    "        print(f\"Crawler Output: {crawler_output}\")\n",
    "        found_links = get_page_links(current_page)\n",
    "        checked_links = check_wikipedia_pages_existence(found_links)\n",
    "        current_links = [link for link in found_links if checked_links[link] and link not in trajectory]"
   ]
  },
  {
   "cell_type": "code",
   "execution_count": null,
   "metadata": {},
   "outputs": [],
   "source": []
  },
  {
   "cell_type": "code",
   "execution_count": null,
   "metadata": {},
   "outputs": [],
   "source": []
  }
 ],
 "metadata": {
  "kernelspec": {
   "display_name": "Python 3",
   "language": "python",
   "name": "python3"
  },
  "language_info": {
   "codemirror_mode": {
    "name": "ipython",
    "version": 3
   },
   "file_extension": ".py",
   "mimetype": "text/x-python",
   "name": "python",
   "nbconvert_exporter": "python",
   "pygments_lexer": "ipython3",
   "version": "3.10.4"
  }
 },
 "nbformat": 4,
 "nbformat_minor": 2
}
