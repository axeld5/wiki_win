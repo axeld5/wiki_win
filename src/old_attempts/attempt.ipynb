{
 "cells": [
  {
   "cell_type": "code",
   "execution_count": 4,
   "metadata": {},
   "outputs": [],
   "source": [
    "import yaml\n",
    "import os\n",
    "import re \n",
    "import random\n",
    "from langchain_anthropic import ChatAnthropic\n",
    "from langchain_core.prompts import ChatPromptTemplate\n",
    "\n",
    "with open('config.yml', 'r') as file:\n",
    "    config = yaml.safe_load(file)\n",
    "openai_key = config[\"openai_key\"]\n",
    "anthropic_key = config[\"anthropic_key\"]"
   ]
  },
  {
   "cell_type": "code",
   "execution_count": 8,
   "metadata": {},
   "outputs": [],
   "source": [
    "os.environ[\"ANTHROPIC_API_KEY\"] = anthropic_key\n",
    "\n",
    "chat = ChatAnthropic(temperature=0, model_name=\"claude-3-haiku-20240307\")\n",
    "crawler_system = (\n",
    "    \"\"\"You are an AI language model tasked to beat the Wiki Game. \n",
    "    Your goal is, from a wikipedia page, to get the next link to click to go to the next page.\"\"\"\n",
    ")"
   ]
  },
  {
   "cell_type": "code",
   "execution_count": 9,
   "metadata": {},
   "outputs": [
    {
     "name": "stdout",
     "output_type": "stream",
     "text": [
      "2006 Spa 24 Hours\n"
     ]
    }
   ],
   "source": [
    "from wikipedia_functions import get_random_page, get_page_links, get_page_content, check_wikipedia_pages_existence\n",
    "\n",
    "start_page = get_random_page(1)[0]\n",
    "final_page = \"United States\"\n",
    "print(start_page)\n",
    "final_page_content = get_page_content(final_page)"
   ]
  },
  {
   "cell_type": "code",
   "execution_count": 10,
   "metadata": {},
   "outputs": [],
   "source": [
    "from prompt_functions import get_crawler_template, get_summarize_template\n",
    "\n",
    "crawler_template = get_crawler_template()\n",
    "summarize_template = get_summarize_template() "
   ]
  },
  {
   "cell_type": "code",
   "execution_count": 11,
   "metadata": {},
   "outputs": [],
   "source": [
    "summarize_system = (\n",
    "    \"\"\"You are an AI language model tasked to summarize the Wikipedia content of the end page of a Wiki Race Game.\n",
    "    Through this summary, you are supposed to help a crawler agent to get to the end page.\"\"\"\n",
    ")\n",
    "human = summarize_template\n",
    "prompt = ChatPromptTemplate.from_messages([(\"system\", crawler_system), (\"human\", human)])\n",
    "chain = prompt | chat"
   ]
  },
  {
   "cell_type": "code",
   "execution_count": 12,
   "metadata": {},
   "outputs": [],
   "source": [
    "end_summary = chain.invoke(\n",
    "        {\n",
    "            \"page_content\": final_page_content\n",
    "        }\n",
    "    )"
   ]
  },
  {
   "cell_type": "code",
   "execution_count": 14,
   "metadata": {},
   "outputs": [],
   "source": [
    "model_output = end_summary.content\n",
    "pattern = r'<summary>(.*?)</summary>'\n",
    "matches = re.findall(pattern, model_output)\n",
    "end_content = matches[0]"
   ]
  },
  {
   "cell_type": "code",
   "execution_count": 15,
   "metadata": {},
   "outputs": [
    {
     "name": "stdout",
     "output_type": "stream",
     "text": [
      "['Category:2006 in FIA GT', 'Manthey Racing', 'Porsche 911 GT3', 'Category:2006 in Belgian motorsport', 'Horst Felbermayr', 'Paul Belmondo', 'Jamie Davies', 'Dodge Viper', 'Marcel Fässler (racing driver)', 'Ferrari F430', 'Chrysler Viper GTS-R', 'Aston Martin DBR9', 'Marcel Tiemann', 'Eric van de Poele', 'Kurt Mollekens', 'Fabrizio Gollin', 'File:Circuit de Spa-Francorchamps 2004-2006.png', 'Iradj Alexander', 'Proximus', 'Scuderia Italia', '2006 FIA GT Oschersleben 500km', 'Sascha Maassen', 'Fabio Babini', 'Jonny Kane', 'Maxime Soulet', 'Andrew Kirkaldy (racing driver)', 'Audi', 'Spa 24 Hours', 'Romain Dumas', 'François Duval', 'Karl Wendlinger', 'Johnny Mowlem', 'Jeroen Bleekemolen', 'Matteo Bobbi', 'Vitaphone Racing Team', 'Lucas Luhr', 'JetAlliance Racing', 'Allan Simonsen (racing driver)', 'Christian Pescatori', 'BMW M3', 'Jean-Philippe Belloc', 'Gillet', 'Philippe Haezebrouck', 'Michael Bartels', 'Mika Salo', 'FIA GT Championship', 'Gabriele Lancieri', 'Ford Motor Company', 'Vincent Radermecker', 'Anthony Reid', 'Ferrari', 'Proton Competition', 'BMS Scuderia Italia', 'Marc Duez', 'Miguel Ramos', 'Timo Scheider', '2006 FIA GT Championship season', 'Jaime Melo', 'Zakspeed', 'Selleslagh Racing Team', 'Maserati MC12', 'Alfa Romeo in motorsport', 'AF Corse', 'Chris Buncombe', 'Philipp Peter', '2006 FIA GT Paul Ricard 500km', 'Chevrolet Corvette C6.R', 'Spyker Cars', 'Andrea Montermini', 'Peter Sundberg', 'Stéphane Ortelli', 'Pedro Lamy', 'Didier de Radiguès', 'Marc Lieb', 'Jean-Denis Délétraz', 'Tomáš Enge', 'Thomas Biagi', 'BMW', 'PK Carsport', 'Peter Kox', 'Porsche', 'Diego Alessi', 'Prospeed Competition', 'Ian Khan', 'Maxime Dumarey', \"Darryl O'Young\", 'Marc Goossens', 'Aston Martin DBRS9', 'Spyker C8', 'GPC Sport', 'Tim Mullen', 'Anthony Kumpen', 'Spyker Squadron', 'Timo Bernhard', 'Category:Spa 24 Hours', 'Jan Charouz', 'Chevrolet Corvette C5-R', 'Christophe Bouchut', 'Andrea Bertolini', 'Donny Crevels', 'JMB Racing', 'Gabriele Gardel', 'Saleen S7', 'Bas Leinders', 'Chrysler Corporation', 'Porsche 997', 'Andrea Piccini', 'Dodge', 'Phoenix Racing (Germany)', 'Emmanuel Collard', 'Christian Ried', 'Rui Águas (racing driver)', 'Markus Palttala', 'Jaroslav Janiš', \"Jérôme d'Ambrosio\", 'Aston Martin', 'Chevrolet', 'Marino Franchitti', 'Maxime Martin', 'Ferrari 360 Modena', 'Maserati']\n"
     ]
    }
   ],
   "source": [
    "start_links = get_page_links(start_page)\n",
    "print(start_links)\n",
    "checked_links = check_wikipedia_pages_existence(start_links)\n",
    "valid_links = [link for link in start_links if checked_links[link]]"
   ]
  },
  {
   "cell_type": "code",
   "execution_count": 16,
   "metadata": {},
   "outputs": [
    {
     "name": "stdout",
     "output_type": "stream",
     "text": [
      "Here is my reasoning and link choice:\n",
      "\n",
      "<reasoning>\n",
      "The goal page is \"United States\", and the current page is \"2006 Spa 24 Hours\". None of the links directly mention the United States, so I will need to find a link that could potentially lead me to the goal page through a series of connections.\n",
      "\n",
      "The link that seems most promising is \"Chevrolet Corvette C6.R\", as Chevrolet is an American car manufacturer, and the Corvette is a well-known American sports car. This could potentially lead to a page about the United States or American automotive history.\n",
      "</reasoning>\n",
      "\n",
      "<output>\n",
      "<output>Chevrolet Corvette C6.R</output>\n",
      "</output>\n",
      "Here is my reasoning and link choice:\n",
      "\n",
      "<reasoning>\n",
      "The goal page is \"United States\", and the current page is \"Chevrolet Corvette C6.R\". The available links do not seem to have any direct connection to the United States. The links are mostly related to motorsports, car manufacturers, and racing events. None of the links appear to be closely related to the United States. Therefore, I will choose a random link from the list.\n",
      "</reasoning>\n",
      "\n",
      "<output>Random</output>\n",
      "Analyzing the available links, I don't see any that are directly related to the goal page \"United States\". The links are mostly about various car models, racing teams, and motorsports events. None of them seem to have a clear connection to the United States.\n",
      "\n",
      "<reasoning>\n",
      "Since I cannot find a link that is closely related to the goal page, I will choose a link that is the most general and could potentially lead to information about the United States. The link \"Ferrari\" seems to be the most broad and could potentially contain information about the United States, as Ferrari is a global company. However, this is a very tenuous connection, and it is unlikely that this link will lead directly to the goal page. Therefore, my recommendation is to choose a random link, as there does not appear to be a clear path from the current page to the goal page.\n",
      "</reasoning>\n",
      "\n",
      "<output>Random</output>\n",
      "<reasoning>\n",
      "The goal page is \"United States\", and the current page is \"Spyker Squadron\". None of the links directly mention the United States, so I will need to find a link that could potentially lead me closer to the goal page.\n",
      "\n",
      "The links that seem the most relevant are \"Chevrolet Corvette C6.R\", \"Chevrolet Corvette C5-R\", and \"Chevrolet\". These links are related to the automotive industry, which could potentially lead to information about the United States, as it is a major automotive manufacturer and consumer.\n",
      "</reasoning>\n",
      "\n",
      "<output>\n",
      "<output>Chevrolet</output>\n",
      "</output>\n",
      "<reasoning>\n",
      "Based on the list of links provided, I do not see any that are directly related to the goal page of \"United States\". The links are mostly about motorsports and car manufacturers, which do not seem to have a clear connection to the United States. Since I cannot find a link that could lead me closer to the goal page, I will output \"Random\" as the best option.\n",
      "</reasoning>\n",
      "\n",
      "<output>Random</output>\n",
      "<reasoning>\n",
      "The goal page is \"United States\", and the current page is \"Thomas Biagi\". Looking at the list of links, there are a few that could potentially be related to the United States, such as \"Chevrolet Corvette C6.R\", \"Chevrolet Corvette C5-R\", \"Chevrolet\", \"Ford Motor Company\", and \"Chrysler Corporation\". However, these links are more related to the automotive industry and motorsports, and do not seem to have a direct connection to the United States. Since I cannot find a link that is clearly related to the goal page, I will output \"Random\" as the best choice.\n",
      "</reasoning>\n",
      "\n",
      "<output>Random</output>\n",
      "<reasoning>\n",
      "Based on the list of links provided, I do not see any that are directly related to the goal page of \"United States\". The links seem to be mostly about motorsports and car racing. None of them appear to be relevant to reaching the goal page. Therefore, I will output \"Random\" as the best option to proceed.\n",
      "</reasoning>\n",
      "\n",
      "<output>Random</output>\n",
      "<reasoning>\n",
      "Based on the given information, the goal page is \"United States\" and the current page is \"Timo Bernhard\". The list of available links does not contain any direct references to the United States, so I will need to find a link that could potentially lead me closer to the goal page.\n",
      "\n",
      "The link that seems the most relevant is \"Porsche\", as the United States is a major market for Porsche and the automotive industry in general. From there, I could potentially find links related to the automotive industry, which could eventually lead me to the United States page.\n",
      "</reasoning>\n",
      "\n",
      "<output>\n",
      "<output>Porsche</output>\n",
      "</output>\n",
      "<reasoning>\n",
      "Based on the given information, the goal page is \"United States\" and the current page is \"Porsche\". None of the links provided seem to be directly related to the United States. However, some links like \"Chevrolet\", \"Ford Motor Company\", and \"Dodge\" could potentially lead to information about the automotive industry in the United States. Since there is no clear path from the current page to the goal page, the best option would be to choose a random link and continue the search from there.\n",
      "</reasoning>\n",
      "\n",
      "<output>Random</output>\n",
      "<reasoning>\n",
      "The goal page is \"United States\", and the current page is \"AF Corse\". None of the links in the provided list seem to be directly related to the United States. The links are mostly about motorsports, car manufacturers, and racing teams. Since I cannot find a link that could lead me closer to the goal page, I will output \"Random\".\n",
      "</reasoning>\n",
      "\n",
      "<output>Random</output>\n"
     ]
    }
   ],
   "source": [
    "human = crawler_template\n",
    "prompt = ChatPromptTemplate.from_messages([(\"system\", crawler_system), (\"human\", human)])\n",
    "chain = prompt | chat\n",
    "current_page = start_page\n",
    "current_links = valid_links\n",
    "for i in range(10):\n",
    "    text = chain.invoke(\n",
    "        {\n",
    "            \"current_page\": current_page,\n",
    "            \"current_links\": current_links,\n",
    "            \"end_page\": final_page,\n",
    "            \"end_page_content\": end_content\n",
    "        }\n",
    "    )\n",
    "    model_output = text.content\n",
    "    print(model_output)\n",
    "    pattern = r'<output>(.*?)</output>'\n",
    "    matches = re.findall(pattern, model_output)\n",
    "    current_page = matches[0]\n",
    "    if current_page == \"Random\":\n",
    "        current_page = random.choice(current_links)\n",
    "    if current_page != final_page:\n",
    "        found_links = get_page_links(current_page)\n",
    "        checked_links = check_wikipedia_pages_existence(start_links)\n",
    "        current_links = [link for link in start_links if checked_links[link]]\n",
    "    else:\n",
    "        print(f\"Page reached in {i} iterations!\")\n",
    "        break"
   ]
  },
  {
   "cell_type": "code",
   "execution_count": null,
   "metadata": {},
   "outputs": [],
   "source": []
  },
  {
   "cell_type": "code",
   "execution_count": null,
   "metadata": {},
   "outputs": [],
   "source": []
  }
 ],
 "metadata": {
  "kernelspec": {
   "display_name": "Python 3",
   "language": "python",
   "name": "python3"
  },
  "language_info": {
   "codemirror_mode": {
    "name": "ipython",
    "version": 3
   },
   "file_extension": ".py",
   "mimetype": "text/x-python",
   "name": "python",
   "nbconvert_exporter": "python",
   "pygments_lexer": "ipython3",
   "version": "3.10.4"
  }
 },
 "nbformat": 4,
 "nbformat_minor": 2
}
