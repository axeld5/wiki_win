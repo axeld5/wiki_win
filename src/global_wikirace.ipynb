{
 "cells": [
  {
   "cell_type": "code",
   "execution_count": 27,
   "metadata": {},
   "outputs": [
    {
     "name": "stderr",
     "output_type": "stream",
     "text": [
      "<All keys matched successfully>\n"
     ]
    }
   ],
   "source": [
    "import yaml\n",
    "import os\n",
    "from langchain_anthropic import ChatAnthropic\n",
    "from sentence_transformers import SentenceTransformer\n",
    "from matching_functions import find_closest_documents\n",
    "\n",
    "model = SentenceTransformer(\"nomic-ai/nomic-embed-text-v1\", trust_remote_code=True)\n",
    "\n",
    "with open('config.yml', 'r') as file:\n",
    "    config = yaml.safe_load(file)\n",
    "anthropic_key = config[\"anthropic_key\"]\n",
    "os.environ[\"ANTHROPIC_API_KEY\"] = anthropic_key\n",
    "chat = ChatAnthropic(temperature=0, model_name=\"claude-3-haiku-20240307\")"
   ]
  },
  {
   "cell_type": "code",
   "execution_count": 43,
   "metadata": {},
   "outputs": [
    {
     "name": "stdout",
     "output_type": "stream",
     "text": [
      "Zdeněk Simota\n",
      "Vano Iantbelidze\n"
     ]
    }
   ],
   "source": [
    "from wikipedia_functions import get_random_page, get_page_links, get_page_content, check_wikipedia_pages_existence\n",
    "\n",
    "start_page, end_page = get_random_page(2)\n",
    "end_page_full_content = get_page_content(end_page)\n",
    "print(start_page)\n",
    "print(end_page)"
   ]
  },
  {
   "cell_type": "code",
   "execution_count": 44,
   "metadata": {},
   "outputs": [],
   "source": [
    "start_links = get_page_links(start_page)\n",
    "checked_links = check_wikipedia_pages_existence(start_links)\n",
    "valid_links = [link for link in start_links if checked_links[link]]"
   ]
  },
  {
   "cell_type": "code",
   "execution_count": 45,
   "metadata": {},
   "outputs": [],
   "source": [
    "from chain_functions import get_crawler_chain, get_summarize_chain, get_explain_links_chain, get_broad_links_chain\n",
    "\n",
    "crawler_chain = get_crawler_chain(chat)\n",
    "summarize_chain = get_summarize_chain(chat)\n",
    "explain_links_chain = get_explain_links_chain(chat)\n",
    "broad_links_chain = get_broad_links_chain(chat)"
   ]
  },
  {
   "cell_type": "code",
   "execution_count": 46,
   "metadata": {},
   "outputs": [
    {
     "name": "stdout",
     "output_type": "stream",
     "text": [
      "Ivane \"Vano\" Iantbelidze is a Soviet and Georgian film, television, and stage actor born on January 14, 1954, in Samtredia, Georgian SSR. He graduated from the Shota Rustaveli Theatre and Film University in 1975 and has since played over 150 roles on the stage of the Telavi state drama theater. Iantbelidze has also appeared in several films, including \"One-Two, Soldiers Were Going...\", \"Only Old Men Are Going to Battle\", and \"The Guard\". Despite his extensive theatrical career, he has had limited appearances in cinema due to his high employment on the stage.\n"
     ]
    }
   ],
   "source": [
    "from answer_functions import answer_broad_links, answer_crawler, answer_explain_links, answer_summarize\n",
    "\n",
    "end_page_content = answer_summarize(summarize_chain, end_page_full_content)\n",
    "print(end_page_content)"
   ]
  },
  {
   "cell_type": "code",
   "execution_count": 47,
   "metadata": {},
   "outputs": [
    {
     "name": "stdout",
     "output_type": "stream",
     "text": [
      "['Prachatice', 'Orzeł Łódź', 'Plymouth Gladiators', 'Brovst Speedway Club', 'Peterborough Panthers']\n",
      "['Premier League (speedway)', 'Elite League (speedway)', '2006 Speedway Grand Prix']\n",
      "<reasoning>\n",
      "Based on the provided information, the links that seem most relevant and potentially helpful in reaching the final page on Vano Iantbelidze are the ones related to speedway racing. The summary of the Vano Iantbelidze page mentions his acting career, but also notes that he has had limited appearances in cinema due to his high employment on the stage. By exploring the pages related to speedway racing, such as the 2006 Speedway Grand Prix, Premier League (speedway), and Elite League (speedway), I may be able to find connections or clues that could bridge the gap between Iantbelidze's acting career and the world of speedway racing, ultimately leading me to the final page.\n",
      "</reasoning>\n",
      "\n",
      "<output>\n",
      "<output>2006 Speedway Grand Prix</output>\n",
      "</output>\n",
      "['Kasts Poudzuks', 'Latvijas Spīdveja Centrs', 'Wiesław Jaguś', 'Andrejs Koroļevs', 'Matija Gubec Stadium']\n",
      "['Speedway World Championship', 'Copenhagen', 'Wrocław']\n",
      "<reasoning>\n",
      "Based on the provided information, the link that seems most relevant to reaching the goal page \"Vano Iantbelidze\" is \"Wiesław Jaguś\". This link refers to a person, which could be a useful starting point to explore biographical information and potentially find connections to the end page. The goal page is also about a person, Vano Iantbelidze, so exploring a link related to another person may help uncover relevant information or connections that could lead to the desired end page.\n",
      "</reasoning>\n",
      "\n",
      "<output>Wiesław Jaguś</output>\n",
      "['Gazeta Wyborcza', 'Golden Helmet (Poland)', 'Individual Speedway Polish Championship', 'Elit Vetlanda Speedway', 'Polish Pairs Speedway Junior Championship']\n",
      "['Speedway Grand Prix', 'Poland national speedway team', 'Individual Speedway Polish Championship']\n",
      "<reasoning>\n",
      "Based on the information provided, the most relevant link to get to the goal page \"Vano Iantbelidze\" appears to be \"Poland national speedway team\". While the target page is about a Soviet and Georgian actor, the context around speedway racing and its significance in Eastern European countries could provide useful background information that may help navigate the Wikipedia game and reach the goal page. The other links, while related to speedway racing, do not seem as directly relevant to the target page.\n",
      "</reasoning>\n",
      "\n",
      "<output>Poland national speedway team</output>\n",
      "['Piotr Świst', 'Stadion Olimpijski (Wrocław)', 'Dariusz Śledź', 'Edward Jancarz Stadium', 'Piotr Baron']\n",
      "['Speedway World Cup', 'Speedway World Team Cup', 'Polski Związek Motorowy']\n",
      "After reviewing the provided information, I don't see any direct connections between the links and the goal page \"Vano Iantbelidze\". The links seem to be focused on Polish speedway racing, which does not appear to be relevant to the Georgian actor Vano Iantbelidze.\n",
      "\n",
      "<reasoning>\n",
      "However, since I must choose a link, I will go with \"Stadion Olimpijski (Wrocław)\" as it is the most general sports-related link that could potentially lead to information about other notable Polish athletes or entertainers. While this link may not be the most direct path, it could potentially provide some tangential information that could help navigate towards the goal page.\n",
      "</reasoning>\n",
      "\n",
      "<output>\n",
      "<output>Stadion Olimpijski (Wrocław)</output>\n",
      "</output>\n",
      "['Ivan Mauger', 'Henryk Żyto', 'Mieczysław Połukard', 'Grzegorz Walasek', 'Andrzej Pogorzelski']\n",
      "['World War II', 'Motorcycle speedway', 'American football']\n",
      "<reasoning>\n",
      "Based on the information provided, the most relevant link to explore in order to reach the goal page \"Vano Iantbelidze\" appears to be \"Motorcycle speedway\". The reasoning is as follows:\n",
      "\n",
      "The target page mentions that Vano Iantbelidze is a Soviet and Georgian film, television, and stage actor. However, the list of links provided does not seem to directly connect to Iantbelidze or his acting career. Instead, the links are mostly related to motorcycle speedway, a sport that appears to be a common thread among the provided options.\n",
      "\n",
      "By exploring the \"Motorcycle speedway\" link, we may be able to find information about notable figures or events in the sport that could potentially lead to connections with Iantbelidze's background or the broader context of the Soviet Union and Georgia. Additionally, some of the other links, such as Grzegorz Walasek, Andrzej Pogorzelski, Mieczysław Połukard, Henryk Żyto, and Ivan Mauger, are all related to motorcycle speedway and could provide additional context and potential pathways to the target page.\n",
      "\n",
      "While the \"World War II\" link may seem tangentially relevant, it is a significant historical event that could potentially be connected to Iantbelidze's life and career, so it may be worth exploring as a secondary option if the \"Motorcycle speedway\" link does not lead directly to the desired page.\n",
      "</reasoning>\n",
      "\n",
      "<output>\n",
      "<output>Motorcycle speedway</output>\n",
      "</output>\n",
      "['Ivan Mauger', 'Veneto', 'Bartosz Zmarzlik', 'Friuli Venezia Giulia', 'Lionel Van Praag']\n",
      "['Dirt track racing', 'Track racing', 'Outline of motorcycles and motorcycling']\n",
      "<reasoning>\n",
      "Based on the provided information, the most relevant link to reach the target page \"Vano Iantbelidze\" appears to be \"Outline of motorcycles and motorcycling\". While the target page is about a Soviet and Georgian actor, the broader context of motorcycling and motorsports may have some tangential connections to the world of film and theater, which the target page is about. The other links, such as \"Dirt track racing\" and \"Track racing\", are also potentially relevant, but the \"Outline of motorcycles and motorcycling\" link provides a more comprehensive overview that could help establish a connection to the target page.\n",
      "</reasoning>\n",
      "\n",
      "<output>Outline of motorcycles and motorcycling</output>\n",
      "['Soviet Union', 'Valentino Rossi', 'Patriot Guard Riders', 'Ewan McGregor', 'Siegfried Bettmann']\n",
      "['List of motorcycles in the National Motor Museum', 'Beaulieu', 'Motorcycle sport', 'Motorcycle racing']\n",
      "<reasoning>\n",
      "Based on the information provided, the most relevant link to reach the goal page \"Vano Iantbelidze\" appears to be the \"Soviet Union\" link. The page summary mentions that Vano Iantbelidze was born in the Georgian Soviet Socialist Republic, which was part of the Soviet Union. This direct connection to the target page's subject matter makes the \"Soviet Union\" link the most promising choice to navigate towards the goal.\n",
      "</reasoning>\n",
      "\n",
      "<output>Soviet Union</output>\n",
      "['Soviet Air Defence Forces', 'Soviet Armed Forces', 'Red Guards (Russia)', 'Soviet Army', 'New Soviet man']\n",
      "['Georgian Soviet Socialist Republic', 'Soviet Union', 'Soviet Armed Forces']\n",
      "<reasoning>\n",
      "Based on the information provided, the most relevant link to reach the goal page of Vano Iantbelidze appears to be \"Soviet Army\". The biography mentions Iantbelidze's involvement with the Soviet Armed Forces, so this link can provide valuable context about the structure, organization, and role of the Soviet military, which may have influenced his career path or experiences. Understanding the broader context of the Soviet military system can help shed light on Iantbelidze's background and the environment in which he operated as an actor.\n",
      "</reasoning>\n",
      "\n",
      "<output>Soviet Army</output>\n",
      "['Formations of the Soviet Army', 'Minister of Defence (Soviet Union)', 'Soviet Air Defense Forces', 'Army General (Soviet rank)', 'Soviet Armed Forces']\n",
      "['Soviet Army Signal Corps', 'Soviet Armed Forces', 'Military history of the Soviet Union']\n",
      "<reasoning>\n",
      "Based on the information provided, the link that seems most relevant to reaching the goal page \"Vano Iantbelidze\" is \"Military history of the Soviet Union\". This link could provide valuable context about the broader historical and political environment in which Iantbelidze's career developed, which may be important for understanding the content of the target page. While the other links could also be potentially useful, the \"Military history of the Soviet Union\" link appears to offer the most comprehensive and relevant information to help navigate towards the goal.\n",
      "</reasoning>\n",
      "\n",
      "<output>Military history of the Soviet Union</output>\n",
      "['Red Guards (Russia)', 'Soviet Airborne Forces', 'Soviet Anti-Air Defense', 'Soviet Border Troops', 'Council of Ministers (Soviet Union)']\n",
      "['Soviet Union', 'World War II', 'Russia']\n",
      "<reasoning>\n",
      "Based on the provided information, the most relevant link to navigate towards the goal page \"Vano Iantbelidze\" appears to be \"World War II\". The goal page content mentions that Vano Iantbelidze is a Soviet and Georgian actor, and understanding the broader historical context of the Soviet Union's involvement in World War II could provide valuable background information that could help connect to the actor's biography. Additionally, the Soviet military history is likely to be closely intertwined with the events of World War II, which could lead to more relevant information about the Soviet Union and its cultural figures like Vano Iantbelidze.\n",
      "</reasoning>\n",
      "\n",
      "<output>\n",
      "<output>World War II</output>\n",
      "</output>\n"
     ]
    }
   ],
   "source": [
    "current_page = start_page\n",
    "current_links = valid_links\n",
    "forbidden_links = [start_page.strip()]\n",
    "for i in range(10):\n",
    "    if end_page in current_links:\n",
    "        print(f\"{end_page} in {current_page}'s links \\nPage reached in {i+1} iterations!\")\n",
    "        break\n",
    "    else:\n",
    "        closest_links = find_closest_documents(model, current_links, end_page, end_page_content)\n",
    "        print(closest_links)\n",
    "        broad_links = answer_broad_links(broad_links_chain, current_links, end_page, end_page_content)\n",
    "        print(broad_links)\n",
    "        current_links = list(set([link for link in closest_links + broad_links if link in current_links]))\n",
    "        reasonings = answer_explain_links(explain_links_chain, current_links, end_page, end_page_content)\n",
    "        current_page = answer_crawler(crawler_chain, current_page, current_links, reasonings, end_page, end_page_content).strip()\n",
    "        forbidden_links.append(current_page)\n",
    "        found_links = get_page_links(current_page)\n",
    "        checked_links = check_wikipedia_pages_existence(found_links)\n",
    "        current_links = [link for link in found_links if checked_links[link] and link not in forbidden_links]        "
   ]
  },
  {
   "cell_type": "code",
   "execution_count": null,
   "metadata": {},
   "outputs": [],
   "source": []
  }
 ],
 "metadata": {
  "kernelspec": {
   "display_name": "Python 3",
   "language": "python",
   "name": "python3"
  },
  "language_info": {
   "codemirror_mode": {
    "name": "ipython",
    "version": 3
   },
   "file_extension": ".py",
   "mimetype": "text/x-python",
   "name": "python",
   "nbconvert_exporter": "python",
   "pygments_lexer": "ipython3",
   "version": "3.10.4"
  }
 },
 "nbformat": 4,
 "nbformat_minor": 2
}
