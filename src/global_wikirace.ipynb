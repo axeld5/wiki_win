{
 "cells": [
  {
   "cell_type": "code",
   "execution_count": 1,
   "metadata": {},
   "outputs": [
    {
     "name": "stderr",
     "output_type": "stream",
     "text": [
      "<All keys matched successfully>\n"
     ]
    }
   ],
   "source": [
    "import yaml\n",
    "import os\n",
    "from langchain_anthropic import ChatAnthropic\n",
    "from sentence_transformers import SentenceTransformer\n",
    "from matching_functions import find_closest_documents\n",
    "\n",
    "model = SentenceTransformer(\"nomic-ai/nomic-embed-text-v1\", trust_remote_code=True)\n",
    "\n",
    "with open('config.yml', 'r') as file:\n",
    "    config = yaml.safe_load(file)\n",
    "anthropic_key = config[\"anthropic_key\"]\n",
    "os.environ[\"ANTHROPIC_API_KEY\"] = anthropic_key\n",
    "chat = ChatAnthropic(temperature=0, model_name=\"claude-3-haiku-20240307\")"
   ]
  },
  {
   "cell_type": "code",
   "execution_count": 2,
   "metadata": {},
   "outputs": [
    {
     "name": "stdout",
     "output_type": "stream",
     "text": [
      "Mainwaringia leithii\n",
      "Survivor: South Pacific\n"
     ]
    }
   ],
   "source": [
    "from wikipedia_functions import get_random_page, get_page_links, get_page_content, check_wikipedia_pages_existence\n",
    "\n",
    "start_page, end_page = get_random_page(2)\n",
    "end_page_full_content = get_page_content(end_page)\n",
    "print(start_page)\n",
    "print(end_page)"
   ]
  },
  {
   "cell_type": "code",
   "execution_count": 3,
   "metadata": {},
   "outputs": [],
   "source": [
    "start_links = get_page_links(start_page)\n",
    "checked_links = check_wikipedia_pages_existence(start_links)\n",
    "valid_links = [link for link in start_links if checked_links[link]]"
   ]
  },
  {
   "cell_type": "code",
   "execution_count": 4,
   "metadata": {},
   "outputs": [],
   "source": [
    "from chain_functions import get_crawler_chain, get_summarize_chain, get_explain_links_chain, get_broad_links_chain\n",
    "\n",
    "crawler_chain = get_crawler_chain(chat)\n",
    "summarize_chain = get_summarize_chain(chat)\n",
    "explain_links_chain = get_explain_links_chain(chat)\n",
    "broad_links_chain = get_broad_links_chain(chat)"
   ]
  },
  {
   "cell_type": "code",
   "execution_count": 5,
   "metadata": {},
   "outputs": [
    {
     "name": "stdout",
     "output_type": "stream",
     "text": [
      "Survivor: South Pacific was the 23rd season of the American reality TV series Survivor, filmed in Samoa and featuring 16 new contestants and two returning players, Ozzy Lusth and Benjamin \"Coach\" Wade. The season was won by Sophie Clarke, who defeated Coach and Albert Destrade in a 6-3-0 vote. Notable contestants included Brandon Hantz, Whitney Duncan, and Elyse Umemoto. Several contestants from this season, including Cochran, Dawn, and Ozzy, went on to appear in future Survivor seasons.\n"
     ]
    }
   ],
   "source": [
    "from answer_functions import answer_broad_links, answer_crawler, answer_explain_links, answer_summarize\n",
    "\n",
    "end_page_content = answer_summarize(summarize_chain, end_page_full_content)\n",
    "print(end_page_content)"
   ]
  },
  {
   "cell_type": "code",
   "execution_count": 6,
   "metadata": {},
   "outputs": [
    {
     "name": "stdout",
     "output_type": "stream",
     "text": [
      "<reasoning>\n",
      "Based on the provided information, the most relevant link to click on to get closer to the \"Survivor: South Pacific\" page appears to be \"Animal\". The Survivor TV show involves human contestants, and understanding the general characteristics and classification of animals could provide a useful foundation for understanding the context and dynamics of the show. While the \"Gastropoda\" and \"Mollusca\" links are also relevant to the given starting page, they are more specific and may not directly connect to the broader topic of the Survivor TV show. Therefore, the \"Animal\" link seems to be the most promising choice to make progress towards the target page.\n",
      "</reasoning>\n",
      "\n",
      "<output>Animal</output>\n",
      "<reasoning>\n",
      "Based on the provided information, the link that seems most relevant and useful to reach the goal page \"Survivor: South Pacific\" is \"Taxonomy (biology)\". Understanding the principles of biological taxonomy and the classification of living organisms can provide a broader context about the types of species and environments that may be featured in the Survivor TV series. This knowledge could help in navigating through related topics and finding connections between different concepts that may be relevant to the Survivor: South Pacific page.\n",
      "</reasoning>\n",
      "\n",
      "<output>Taxonomy (biology)</output>\n",
      "<reasoning>\n",
      "After analyzing the provided links and their associated reasonings, the link that seems most useful to get to the \"Survivor: South Pacific\" page is \"Biological database\". This link could provide valuable information about the natural environment, flora, and fauna of the Samoan islands where the season was filmed. Understanding the local ecosystem and the various species encountered by the contestants could offer insights into the challenges they faced and the strategies they employed to overcome them. Additionally, a biological database could contain data on the physiology, behavior, and adaptations of the contestants themselves, which could be relevant to understanding their performance and decision-making during the show.\n",
      "</reasoning>\n",
      "\n",
      "<output>Biological database</output>\n",
      "<reasoning>\n",
      "After analyzing the provided links and the goal page content, I believe the most useful link to click on is \"National Center for Biotechnology Information\". While the connection to the target page \"Survivor: South Pacific\" is not immediately obvious, the NCBI's focus on bioinformatics and computational biology could potentially be relevant if the target page has any connections to biology, science, or technology. By understanding the NCBI and its role in managing and providing access to biological and genomic data, I may be able to identify relevant links and pathways that could lead me closer to the final destination.\n",
      "</reasoning>\n",
      "\n",
      "<output>National Center for Biotechnology Information</output>\n",
      "<reasoning>\n",
      "Based on the provided information, the most relevant link to navigate towards the \"Survivor: South Pacific\" page is \"United States\". The Survivor TV series is an American reality show, so understanding the broader context of the United States, its culture, and the target audience for the show can help make connections to the specific Survivor season and its contestants. The other links, \"Gene\" and \"DNA\", while potentially relevant to the biological and genetic factors that may influence the contestants' performance, are not as directly connected to the specific Survivor season as the \"United States\" link.\n",
      "</reasoning>\n",
      "\n",
      "<output>United States</output>\n",
      "<reasoning>\n",
      "Based on the provided information, the link \"History of the United States\" seems to be the most relevant and useful choice to reach the goal page \"Survivor: South Pacific\". The reasoning is that understanding the history of the United States can provide valuable context and insights into the cultural and societal factors that influence the Survivor TV series, which is produced and aired in the United States. This broader understanding of the setting and background of the Survivor franchise can be helpful in navigating the Wikipedia game and making informed decisions about the most relevant links to follow.\n",
      "</reasoning>\n",
      "\n",
      "<output>History of the United States</output>\n",
      "<reasoning>\n",
      "While the link to 'World War II' may not seem directly relevant to reaching the 'Survivor: South Pacific' page, it could provide useful historical context and background information that could help in navigating the Wikipedia landscape. By exploring the themes of survival, competition, and cultural references that may connect Survivor to significant historical events like World War II, we may uncover indirect relationships or tangential information that could prove helpful in reaching the goal page.\n",
      "</reasoning>\n",
      "\n",
      "<output>\n",
      "<output>World War II</output>\n",
      "</output>\n",
      "<reasoning>\n",
      "Based on the given information, neither the \"Canada\" nor the \"Soviet Union\" links appear to be directly relevant to reaching the \"Survivor: South Pacific\" page. These links do not have an obvious connection to the Survivor TV series or the specific season mentioned.\n",
      "\n",
      "However, if I had to choose one of the two links, I would select the \"Canada\" link. While it may not be the most direct path, Canada is a country in North America, which could potentially lead to broader topics related to television, reality shows, or even the Survivor franchise. From there, I might be able to find more direct connections to the \"Survivor: South Pacific\" page.\n",
      "\n",
      "The \"Soviet Union\" link, on the other hand, seems even more distant from the target page, as it is related to historical political events rather than television or reality shows. Making the necessary connections from the \"Soviet Union\" link to reach the \"Survivor: South Pacific\" page would likely require a more convoluted and less straightforward approach.\n",
      "</reasoning>\n",
      "\n",
      "<output>\n",
      "<output>Canada</output>\n",
      "</output>\n",
      "<reasoning>\n",
      "Based on the provided information, the link \"Canada–United States relations\" seems more relevant and useful for reaching the goal page \"Survivor: South Pacific.\" While the \"Soviet Union\" link could provide some broader historical context, the relationship between Canada and the United States is more directly connected to the North American setting and cultural context of the Survivor TV series.\n",
      "\n",
      "Understanding the dynamics and interactions between Canada and the United States, as well as their shared history and geographical proximity, could offer insights that may help navigate through Wikipedia pages and make connections to the target page. The Survivor series is an American reality TV show, and the Canada-U.S. relationship is likely to have some relevance in the broader context of North American media and entertainment.\n",
      "</reasoning>\n",
      "\n",
      "<output>Canada–United States relations</output>\n",
      "<reasoning>\n",
      "After analyzing the provided links, I believe the most useful one to get to the \"Survivor: South Pacific\" page is \"Canada–United States border\". While it may not have a direct connection, this link could provide broader context about geography, international relations, and potentially even reality TV shows that feature international locations. This could open up avenues to explore topics more closely related to the Survivor franchise. The other links, while potentially interesting, seem more tangentially related and less likely to lead directly to the target page.\n",
      "</reasoning>\n",
      "\n",
      "<output>\n",
      "<output>Canada–United States border</output>\n",
      "</output>\n"
     ]
    }
   ],
   "source": [
    "current_page = start_page\n",
    "current_links = valid_links\n",
    "forbidden_links = [start_page.strip()]\n",
    "for i in range(10):\n",
    "    closest_links = find_closest_documents(model, end_page, end_page_content, current_links)\n",
    "    broad_links = answer_broad_links(broad_links_chain, current_links, end_page, end_page_content)\n",
    "    current_links = list(set([link for link in closest_links + broad_links if link in current_links]))\n",
    "    reasonings = answer_explain_links(explain_links_chain, current_links, end_page, end_page_content)\n",
    "    current_page = answer_crawler(crawler_chain, current_page, current_links, reasonings, end_page, end_page_content).strip()\n",
    "    if current_page != end_page:\n",
    "        forbidden_links.append(current_page)\n",
    "        found_links = get_page_links(current_page)\n",
    "        checked_links = check_wikipedia_pages_existence(found_links)\n",
    "        current_links = [link for link in found_links if checked_links[link] and link not in forbidden_links]\n",
    "    else:\n",
    "        print(f\"Page reached in {i} iterations!\")\n",
    "        break"
   ]
  },
  {
   "cell_type": "code",
   "execution_count": null,
   "metadata": {},
   "outputs": [],
   "source": []
  },
  {
   "cell_type": "code",
   "execution_count": null,
   "metadata": {},
   "outputs": [],
   "source": []
  }
 ],
 "metadata": {
  "kernelspec": {
   "display_name": "Python 3",
   "language": "python",
   "name": "python3"
  },
  "language_info": {
   "codemirror_mode": {
    "name": "ipython",
    "version": 3
   },
   "file_extension": ".py",
   "mimetype": "text/x-python",
   "name": "python",
   "nbconvert_exporter": "python",
   "pygments_lexer": "ipython3",
   "version": "3.10.4"
  }
 },
 "nbformat": 4,
 "nbformat_minor": 2
}
